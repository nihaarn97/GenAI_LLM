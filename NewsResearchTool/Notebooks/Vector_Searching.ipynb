{
 "cells": [
  {
   "cell_type": "markdown",
   "id": "24351201",
   "metadata": {},
   "source": [
    "### Learning how to work with data on webpages"
   ]
  },
  {
   "cell_type": "code",
   "execution_count": 1,
   "id": "8fb1385d",
   "metadata": {},
   "outputs": [],
   "source": [
    "from langchain.document_loaders import UnstructuredURLLoader"
   ]
  },
  {
   "cell_type": "code",
   "execution_count": 2,
   "id": "b0726afb",
   "metadata": {},
   "outputs": [
    {
     "data": {
      "text/plain": [
       "2"
      ]
     },
     "execution_count": 2,
     "metadata": {},
     "output_type": "execute_result"
    }
   ],
   "source": [
    "loader = UnstructuredURLLoader(urls = [\n",
    "            \"https://www.moneycontrol.com/news/business/markets/hdfc-bank-gains-after-the-big-fall-clsa-says-buy-fiis-warming-up-to-the-stock-12082451.html\",\n",
    "            \"https://www.moneycontrol.com/news/business/stocks/buy-hdfc-bank-target-of-rs-1950-kr-choksey-12080431.html\"])\n",
    "\n",
    "data = loader.load()\n",
    "\n",
    "len(data)"
   ]
  },
  {
   "cell_type": "code",
   "execution_count": 3,
   "id": "ab86667e",
   "metadata": {},
   "outputs": [
    {
     "data": {
      "text/plain": [
       "Document(page_content='English\\n\\nHindi\\n\\nGujarati\\n\\nSpecials\\n\\nMoneycontrol Trending Stock\\n\\nInfosys\\xa0INE009A01021, INFY, 500209\\n\\nState Bank of India\\xa0INE062A01020, SBIN, 500112\\n\\nYes Bank\\xa0INE528G01027, YESBANK, 532648\\n\\nBank Nifty\\n\\nNifty 500\\n\\nQuotes\\n\\nMutual Funds\\n\\nCommodities\\n\\nFutures & Options\\n\\nCurrency\\n\\nNews\\n\\nCryptocurrency\\n\\nForum\\n\\nNotices\\n\\nVideos\\n\\nGlossary\\n\\nAll\\n\\nHello, LoginHello, LoginLog-inor Sign-UpMy AccountMy Profile My PortfolioMy WatchlistMy Credit Score₹100 CashbackMy FeedMy MessagesMy AlertsMy Profile My PROMy PortfolioMy WatchlistMy Credit Score₹100 CashbackMy FeedMy MessagesMy AlertsLogoutChat with UsDownload AppFollow us on:\\n\\nPremium\\n\\nMy Feed\\n\\nBudget 2        24MarketsHOMEINDIAN INDICESSTOCK ACTIONAll StatsTop GainersTop LosersOnly BuyersOnly Sellers52 Week High52 Week LowPrice ShockersVolume ShockersMost Active StocksGLOBAL MARKETSUS MARKETSBIG SHARK PORTFOLIOSSTOCK SCANNERECONOMIC CALENDARMARKET ACTIONDashboardF&OFII & DII ActivityCorporate ActionEARNINGSCOMMODITYPRE MARKETRESEARCHAdviceBroker ResearchTechnicalsCURRENCYBONDSWEBINARINTERVIEW SERIESTECHNICAL TRENDSIPOOTHERSCryptocurrencyToolsNewsHOMEPAGEBUSINESSHomeEconomyCompaniesMutual FundsPersonal FinanceIPOStartupsReal EstateSMEGEOGRAPHYIndiaWorldMARKETSHomeStocksTechnical AnalysisEquity ResearchCommodityCurrencyGold RateSilver RateAQISPECIALTrendsLatest NewsOpinionTECHNOLOGYPersonal TechAutoFintechMEDIAPodcastPhotosInfographicsVideosOTHERSMC LearnPoliticsCricketEntertainmentTravelLifestyleHealth and FitnessEducationScienceBooksMC BuzzMC FeaturesTech/StartupsPortfolioWatchlistCommoditiesMutual FundsEXPLOREHomeFind FundTop Ranked FundsPerformance TrackerSIP Performance TrackerETF PerformanceNFOTop Performing CategoriesLearnTOOLSReturns CalculatorLumpsum SIP BalancerDelay Cost CalculatorSIP ReturnMF FORUMTRACKYour MF InvestmentMF PricesMC 30Personal FinanceEXPLOREHomeInvestingInsuranceBankingFinancial PlanningPropertyToolsVideoAsk ExpertExplainerIncome Tax Filing GuideNPSFIXED DEPOSITFixed Deposit Interest CalculatorCorporate DepositsTAXIncome tax Filing GuideIncome Tax CalculatorEmergency Fund CalculatorLOANS & CREDIT CARDSHomeCar Loan CalculatorHome Loan CalculatorEducation Loan CalculatorCredit Card Debit Payoff CalculatorTOOLSProvident Fund CalculatorAssets Allocation PlanningDebt Reduction PlannerDebt Evaluation CalculatorCurrent Expense CalculatorCredit Score₹100 CashbackREAL ESTATE : TRENDS & ANALYTICSMC 30MONEYCONTROL - SECURENOW HEALTH INSURANCE RATINGSGOLD PRICE TODAYUpcoming Chat | Previous TranscriptsAll Schedule | Previous TranscriptForumEXPLORE FORUMHomepageMembership RulesForum TopicsAsk the ExpertTop BoardersUSER PROFILEFORUM TOPICSLatest ThreadsStocksIndexGoldPersonal FinanceJust PostedMF FORUMPOLLSLatest PollsHistorical PollsMarket SentimentsSUPPORTFAQsCode of ConductFeedbackWrite to usVideosVIDEOSHomepageVideos on DemandMarkets with Santo & CJMorning TradeCommodities chat with Manisha GuptaLet`s Talk JobsThe TenantDrive ReportBajar GupshupBits To BillionsPODCASTHomepagePodcast on DemandThe Week on Dalal StreetMarket MinutesMC Special PodcastSimply SavePolicy TalksLIVE TVHindiGujaratiInvest NowInvest in Commercial Real Estate FractionallyPowered By hBits - Fractional Ownership & Investment In Commercial Real EstateOwn a fraction of pre-leased office space with an entry point of 25 lacs.Start generating passive income with up to 10% rental yield and an expected IRR of 18%Invest NowExpert Trading GuidancePowered By Trading Advisories, Courses & Webinars by Top Verified Experts.Unlock Your Trading Potential: Trade like Experts with SEBI registered creators, Learn from Courses & Webinars by India\\'s Finest Finance Experts.Invest NowGo Ad-Free BusinessMarketsStocksEconomyCompaniesTrendsIPOOpinionEV Special\\n\\n>->MC_ENG_DESKTOP/MC_ENG_NEWS/MC_ENG_MARKETS_AS/MC_ENG_ROS_NWS_MKTS_AS_ATF_728\\n\\nGo PRO @₹99\\n\\nPRO\\n\\nAdvertisement\\n\\nRemove Ad\\n\\n\\n\\nBudget 2        24\\n\\nMarketsHOMEINDIAN INDICESSTOCK ACTIONAll StatsTop GainersTop LosersOnly BuyersOnly Sellers52 Week High52 Week LowPrice ShockersVolume ShockersMost Active StocksGLOBAL MARKETSUS MARKETSBIG SHARK PORTFOLIOSSTOCK SCANNERECONOMIC CALENDARMARKET ACTIONDashboardF&OFII & DII ActivityCorporate ActionEARNINGSCOMMODITYPRE MARKETRESEARCHAdviceBroker ResearchTechnicalsCURRENCYBONDSWEBINARINTERVIEW SERIESTECHNICAL TRENDSIPOOTHERSCryptocurrencyTools\\n\\nNewsHOMEPAGEBUSINESSHomeEconomyCompaniesMutual FundsPersonal FinanceIPOStartupsReal EstateSMEGEOGRAPHYIndiaWorldMARKETSHomeStocksTechnical AnalysisEquity ResearchCommodityCurrencyGold RateSilver RateAQISPECIALTrendsLatest NewsOpinionTECHNOLOGYPersonal TechAutoFintechMEDIAPodcastPhotosInfographicsVideosOTHERSMC LearnPoliticsCricketEntertainmentTravelLifestyleHealth and FitnessEducationScienceBooksMC BuzzMC Features\\n\\nTech/Startups\\n\\nPortfolio\\n\\nWatchlist\\n\\nCommodities\\n\\nMutual FundsEXPLOREHomeFind FundTop Ranked FundsPerformance TrackerSIP Performance TrackerETF PerformanceNFOTop Performing CategoriesLearnTOOLSReturns CalculatorLumpsum SIP BalancerDelay Cost CalculatorSIP ReturnMF FORUMTRACKYour MF InvestmentMF PricesMC 30\\n\\nPersonal FinanceEXPLOREHomeInvestingInsuranceBankingFinancial PlanningPropertyToolsVideoAsk ExpertExplainerIncome Tax Filing GuideNPSFIXED DEPOSITFixed Deposit Interest CalculatorCorporate DepositsTAXIncome tax Filing GuideIncome Tax CalculatorEmergency Fund CalculatorLOANS & CREDIT CARDSHomeCar Loan CalculatorHome Loan CalculatorEducation Loan CalculatorCredit Card Debit Payoff CalculatorTOOLSProvident Fund CalculatorAssets Allocation PlanningDebt Reduction PlannerDebt Evaluation CalculatorCurrent Expense CalculatorCredit Score₹100 CashbackREAL ESTATE : TRENDS & ANALYTICSMC 30MONEYCONTROL - SECURENOW HEALTH INSURANCE RATINGSGOLD PRICE TODAYUpcoming Chat | Previous TranscriptsAll Schedule | Previous Transcript\\n\\nForumEXPLORE FORUMHomepageMembership RulesForum TopicsAsk the ExpertTop BoardersUSER PROFILEFORUM TOPICSLatest ThreadsStocksIndexGoldPersonal FinanceJust PostedMF FORUMPOLLSLatest PollsHistorical PollsMarket SentimentsSUPPORTFAQsCode of ConductFeedbackWrite to us\\n\\nVideosVIDEOSHomepageVideos on DemandMarkets with Santo & CJMorning TradeCommodities chat with Manisha GuptaLet`s Talk JobsThe TenantDrive ReportBajar GupshupBits To BillionsPODCASTHomepagePodcast on DemandThe Week on Dalal StreetMarket MinutesMC Special PodcastSimply SavePolicy TalksLIVE TVHindiGujarati\\n\\nInvest NowInvest in Commercial Real Estate FractionallyPowered By hBits - Fractional Ownership & Investment In Commercial Real EstateOwn a fraction of pre-leased office space with an entry point of 25 lacs.Start generating passive income with up to 10% rental yield and an expected IRR of 18%Invest NowExpert Trading GuidancePowered By Trading Advisories, Courses & Webinars by Top Verified Experts.Unlock Your Trading Potential: Trade like Experts with SEBI registered creators, Learn from Courses & Webinars by India\\'s Finest Finance Experts.Invest Now\\n\\nGo Ad-Free\\n\\nBusiness\\n\\nMarkets\\n\\nStocks\\n\\nEconomy\\n\\nCompanies\\n\\nTrends\\n\\nIPO\\n\\nOpinion\\n\\nEV Special\\n\\nHome\\n\\nNews\\n\\nBusiness\\n\\nMarkets\\n\\nHDFC Bank gains after the big fall. CLSA says \\'buy\\', FIIs warming up to the stock\\n\\nCLSA shared a target price of Rs 2,025, implying an upside of 34 percent from current levels\\n\\nMoneycontrol News\\n\\nJanuary 19, 2024 / 10:43 AM IST\\n\\n\\n\\n\\n\\n\\n\\n\\n\\n\\n\\n\\n\\nSome of the key concerns for HDFC Bank lied on slower-than-anticipated deposit growth and margin compression\\n\\nWatchlist\\n\\nPortfolio\\n\\nMessage\\n\\nSet Alert\\n\\nlive\\n\\nbselive\\n\\nnselive\\n\\nVolume \\n\\nTodays L/H \\n\\nMore\\n\\nHDFC Bank reversed a two-day decline trend to trade over a percent higher at Rs 1,504 on January 19 morning deals after tanking 11 percent on a disappointing Q3 show.\\n\\nIn a morning note, global brokerage firm CLSA shared a \"buy\" call on India\\'s largest private sector lender, with a target price of Rs 2,025, implying an upside of 34 percent from current levels.\\n\\nStory continues below Advertisement\\n\\nRemove Ad\\n\\nInvestors dumped HDFC Bank after its December quarter numbers financials showed a strain on margin,\\xa0sluggish deposit growth and\\xa0decadal low earnings per share (EPS). The fall sent This ripples across on Bank Nifty, which lost 5 percent in two days as the lender commands around 40 percent weightage in the 12-pack index.\\n\\nFollow live blog for all the market action\\n\\nCLSA analysts said they interacted with more than 20 clients since HDFC Bank\\'s Q3 results and found that its domestic clients were unhappy with the lender\\'s performance. However, many foreign investors said they were nearing the end of \"EPS cuts\" cycle for HDFC Bank.\\n\\nRelated stories\\n\\nSanghi Industries settles down, analysts peg falls on minority shareholder concern over Ambuja Cemen...\\n\\nGainers and Losers: 10 stocks that moved the most on January 20\\n\\nAdani shares surge in last trading hour, Adani Total Gas and Adani Green gain the most\\n\\nThe lender\\'s earnings per share fell 4 percent QoQ to Rs 22 from Rs 21.1.\\n\\n\"Some of the key concerns for HDFC Bank lied on slower-than-anticipated deposit growth and margin compression. But some clients believed that it was\\xa0lower deposit growth was more of a macro problem and not intrinsic alone to HDFC Bank,\" the brokerage firm said.\\n\\nALSO READ:\\xa0Are HDFC Bank results all that bad for banking sector? It\\'s time to pick your best bets\\n\\nStory continues below Advertisement\\n\\nRemove Ad\\n\\nHDFC Bank Q3 core profitability fell short of expectations, with the margin flat at 3.4 percent amid higher cost of funds or borrowing costs.\\n\\nAnother key negative was the lender\\'s sluggish deposit growth compared to strong credit growth that inched up loan-to-deposit ratio (LDR) to 110 percent versus 107 percent QoQ, signalling a bad financial health where the bank needs to step up deposit mobilisation to buffer itself from unexpected contingencies.\\n\\nDisclaimer: The views and investment tips expressed by investment experts on Moneycontrol.com are their own and not those of the website or its management. Moneycontrol.com advises users to check with certified experts before taking any investment decisions.\\n\\nMoneycontrol News\\n\\nTags:\\n\\n#Buzzing Stocks\\n\\n#HDFC Bank\\n\\n#HDFC Bank stock\\n\\n#q3 results\\n\\nfirst published: Jan 19, 2024 10:09 am\\n\\nbusiness news,\\n\\nSensex, and\\n\\nNifty updates. Obtain\\n\\nPersonal Finance insights, tax queries, and expert opinions on\\n\\nMoneycontrol or download the\\n\\nMoneycontrol App to stay updated!\\n\\nAdvertisement\\n\\nRemove Ad\\n\\nTrending news\\n\\nRepublic Day sale: Man orders iPhone15 on Flipkart, receives defective phone with fake battery. Watch\\n\\nSania Mirza, Shoaib Malik \\'have been divorced for a few months now\\', reveals family\\n\\nRepublic Day sale: Man orders laptop worth over Rs 1 lakh from Flipkart, gets \\'old discarded\\' one. Watch\\n\\nMoti Mahal vs Daryaganj: Delhi High Court to decide who invented butter chicken, dal makhani\\n\\nVistex Asia CEO Sanjay Shah falls off \\'paalki\\', dies at company’s 25th anniversary celebrations. Video\\n\\nForum\\n\\nFacebook\\n\\nTwitter\\n\\nInstagram\\n\\nLinkedin\\n\\nRSS\\n\\nPortfolio\\n\\nMarkets\\n\\nWatchlist\\n\\nLive TV Show\\n\\nCurrencies\\n\\nCredit Score₹100 Cashback\\n\\nCommodities\\n\\nFixed Income\\n\\nPersonal Finance\\n\\nRam Mandir\\n\\nMutual Fund\\n\\nPre-Market\\n\\nIPO\\n\\nGlobal Market\\n\\nBudget 2024\\n\\nGold Rate\\n\\nBSE Sensex\\n\\nForum\\n\\nMC 30\\n\\nNews\\n\\nBusiness\\n\\nMarkets\\n\\nStocks\\n\\nEconomy\\n\\nMutual Funds\\n\\nPersonal Finance\\n\\nIPO News\\n\\nStartups\\n\\nElection 2023\\n\\nElections 2023 in Hindi\\n\\nStocks:\\n\\nA |\\n\\nB |\\n\\nC |\\n\\nD |\\n\\nE |\\n\\nF |\\n\\nG |\\n\\nH |\\n\\nI |\\n\\nJ |\\n\\nK |\\n\\nL |\\n\\nM |\\n\\nN |\\n\\nO |\\n\\nP |\\n\\nQ |\\n\\nR |\\n\\nS |\\n\\nT |\\n\\nU |\\n\\nV |\\n\\nW |\\n\\nX |\\n\\nY |\\n\\nZ |\\n\\nOthers\\n\\nMutual Funds:\\n\\nA \\r\\n             |\\n\\nB \\r\\n             |\\n\\nC \\r\\n             |\\n\\nD \\r\\n             |\\n\\nE \\r\\n             |\\n\\nF \\r\\n             |\\n\\nG \\r\\n             |\\n\\nH \\r\\n             |\\n\\nI \\r\\n             |\\n\\nJ \\r\\n             |\\n\\nK \\r\\n             |\\n\\nL \\r\\n             |\\n\\nM \\r\\n             |\\n\\nN \\r\\n             |\\n\\nO \\r\\n             |\\n\\nP \\r\\n             |\\n\\nQ \\r\\n             |\\n\\nR \\r\\n             |\\n\\nS \\r\\n             |\\n\\nT \\r\\n             |\\n\\nU \\r\\n             |\\n\\nV \\r\\n             |\\n\\nW \\r\\n             |\\n\\nX \\r\\n             |\\n\\nY \\r\\n             |\\n\\nVisit the App Store to see all our apps:\\n\\nDownload from Google Play\\n\\nDownload from APP Store\\n\\nDownload from Windows Phone\\n\\nTools\\n\\nRetirement Planning\\n\\nEMI Calculator\\n\\nSIP Calculator\\n\\nSIP Planner\\n\\nUseful Links\\n\\nCrypto News\\n\\nBank Holidays in India\\n\\nGold Rate Today\\n\\nSilver Rate Today\\n\\nTrending News\\n\\nStartups\\n\\nNational News\\n\\nMC Videos\\n\\nMC You Tube\\n\\nHouse Purchase Index\\n\\nBest Portfolio Manager\\n\\nSmall Savings Schemes\\n\\nBonds\\n\\nTopperLearning\\n\\nClear Study Doubts\\n\\nEducation Franchisee Opportunity\\n\\nSpecials\\n\\nMaster Your Money\\n\\nGame Changers\\n\\nInvestment Watch\\n\\nPowerYourTrade\\n\\nMoneyBhai\\n\\nFocus\\n\\nSME Step Up\\n\\nNetwork 18 Sites\\n\\nNews18\\n\\nFirstpost\\n\\nCNBC TV18\\n\\nNews18 Hindi\\n\\nCricketnext\\n\\nOverdrive\\n\\nTopper Learning\\n\\nAbout us |\\n\\nContact Us |\\n\\nAdvertise with Us |\\n\\nSupport |\\n\\nDisclaimer |\\n\\nPrivacy Policy |\\n\\nCookie Policy |\\n\\nTerms & Conditions |\\n\\nCareers |\\n\\nFinancial Terms (Glossary) |\\n\\nFAQs |\\n\\nSitemap |\\n\\nRSS Feed\\n\\nCopyright © e-Eighteen.com Ltd. All rights reserved. Reproduction of news articles, photos, videos or any other content in whole or in part in any form \\r\\n        or medium without express writtern permission of moneycontrol.com is prohibited.\\n\\nYou got 30 Day’s Trial of\\n\\nGrab it Now\\n\\nAd-Free Experience\\n\\nTop Articles from Financial Times\\n\\nActionable Insights\\n\\nMC Research\\n\\nEconomic Calendar\\n\\n& Many More\\n\\nYou are already a Moneycontrol Pro user.\\n\\nCheck your Credit Score Now!\\n\\nAccess your Detailed Credit Report - absolutely free\\n\\nClick Here\\n\\nLovisha Darad', metadata={'source': 'https://www.moneycontrol.com/news/business/markets/hdfc-bank-gains-after-the-big-fall-clsa-says-buy-fiis-warming-up-to-the-stock-12082451.html'})"
      ]
     },
     "execution_count": 3,
     "metadata": {},
     "output_type": "execute_result"
    }
   ],
   "source": [
    "data[0]"
   ]
  },
  {
   "cell_type": "markdown",
   "id": "17926d20",
   "metadata": {},
   "source": [
    "### Creating chunks of text using TextSplitter"
   ]
  },
  {
   "cell_type": "code",
   "execution_count": 4,
   "id": "cb16fdb1",
   "metadata": {},
   "outputs": [],
   "source": [
    "from langchain.text_splitter import CharacterTextSplitter"
   ]
  },
  {
   "cell_type": "code",
   "execution_count": 5,
   "id": "28d7aa2b",
   "metadata": {},
   "outputs": [],
   "source": [
    "wiki_text = \"\"\"Interstellar is a 2014 epic science fiction film co-written, directed, and produced by Christopher Nolan. \n",
    "It stars Matthew McConaughey, Anne Hathaway, Jessica Chastain, Bill Irwin, Ellen Burstyn, Matt Damon, and Michael Caine. \n",
    "Set in a dystopian future where humanity is embroiled in a catastrophic blight and famine, the film follows a group of astronauts who travel through a wormhole near Saturn in search of a new home for humankind.\n",
    "\n",
    "Brothers Christopher and Jonathan Nolan wrote the screenplay, which had its origins in a script Jonathan developed in 2007 and was originally set to be directed by Steven Spielberg. \n",
    "Kip Thorne, a Caltech theoretical physicist and 2017 Nobel laureate in Physics,[4] was an executive producer, acted as a scientific consultant, and wrote a tie-in book, The Science of Interstellar. \n",
    "Cinematographer Hoyte van Hoytema shot it on 35 mm movie film in the Panavision anamorphic format and IMAX 70 mm. Principal photography began in late 2013 and took place in Alberta, Iceland, and Los Angeles. \n",
    "Interstellar uses extensive practical and miniature effects, and the company Double Negative created additional digital effects.\n",
    "\n",
    "Interstellar premiered in Los Angeles on October 26, 2014. In the United States, it was first released on film stock, expanding to venues using digital projectors. The film received generally positive reviews from critics and grossed over $677 million worldwide ($715 million after subsequent re-releases), making it the tenth-highest-grossing film of 2014. \n",
    "It has been praised by astronomers for its scientific accuracy and portrayal of theoretical astrophysics.[5][6][7] Interstellar was nominated for five awards at the 87th Academy Awards, winning Best Visual Effects, and received numerous other accolades.\"\"\"\n"
   ]
  },
  {
   "cell_type": "code",
   "execution_count": 6,
   "id": "53646513",
   "metadata": {
    "scrolled": true
   },
   "outputs": [
    {
     "name": "stderr",
     "output_type": "stream",
     "text": [
      "Created a chunk of size 210, which is longer than the specified 200\n",
      "Created a chunk of size 208, which is longer than the specified 200\n",
      "Created a chunk of size 358, which is longer than the specified 200\n"
     ]
    },
    {
     "data": {
      "text/plain": [
       "9"
      ]
     },
     "execution_count": 6,
     "metadata": {},
     "output_type": "execute_result"
    }
   ],
   "source": [
    "splitter = CharacterTextSplitter(separator = \"\\n\", chunk_size = 200, chunk_overlap = 0)\n",
    "\n",
    "chunks = splitter.split_text(wiki_text)\n",
    "\n",
    "len(chunks)"
   ]
  },
  {
   "cell_type": "code",
   "execution_count": 7,
   "id": "d11b674d",
   "metadata": {},
   "outputs": [],
   "source": [
    "from langchain.text_splitter import RecursiveCharacterTextSplitter"
   ]
  },
  {
   "cell_type": "code",
   "execution_count": 8,
   "id": "0750674a",
   "metadata": {
    "scrolled": true
   },
   "outputs": [
    {
     "data": {
      "text/plain": [
       "13"
      ]
     },
     "execution_count": 8,
     "metadata": {},
     "output_type": "execute_result"
    }
   ],
   "source": [
    "rec_splitter = RecursiveCharacterTextSplitter(separators = [\"\\n\\n\", \"\\n\", \" \"], chunk_size = 200, chunk_overlap = 0)\n",
    "\n",
    "chunks = rec_splitter.split_text(wiki_text)\n",
    "\n",
    "len(chunks)"
   ]
  },
  {
   "cell_type": "markdown",
   "id": "3844c3b4",
   "metadata": {},
   "source": [
    "### Understanding FAISS (Lightweight in memory vector database)\n",
    "FAISS wil perform an efficient search for the vector of the search query and return those chunks (vectors) that have high similarity to the search query"
   ]
  },
  {
   "cell_type": "code",
   "execution_count": 11,
   "id": "fb46145d",
   "metadata": {},
   "outputs": [],
   "source": [
    "import pandas as pd\n",
    "pd.set_option('display.max_colwidth', 100)"
   ]
  },
  {
   "cell_type": "code",
   "execution_count": 12,
   "id": "655b90fa",
   "metadata": {},
   "outputs": [
    {
     "data": {
      "text/html": [
       "<div>\n",
       "<style scoped>\n",
       "    .dataframe tbody tr th:only-of-type {\n",
       "        vertical-align: middle;\n",
       "    }\n",
       "\n",
       "    .dataframe tbody tr th {\n",
       "        vertical-align: top;\n",
       "    }\n",
       "\n",
       "    .dataframe thead th {\n",
       "        text-align: right;\n",
       "    }\n",
       "</style>\n",
       "<table border=\"1\" class=\"dataframe\">\n",
       "  <thead>\n",
       "    <tr style=\"text-align: right;\">\n",
       "      <th></th>\n",
       "      <th>text</th>\n",
       "      <th>category</th>\n",
       "    </tr>\n",
       "  </thead>\n",
       "  <tbody>\n",
       "    <tr>\n",
       "      <th>0</th>\n",
       "      <td>Meditation and yoga can improve mental health</td>\n",
       "      <td>Health</td>\n",
       "    </tr>\n",
       "    <tr>\n",
       "      <th>1</th>\n",
       "      <td>Fruits, whole grains and vegetables helps control blood pressure</td>\n",
       "      <td>Health</td>\n",
       "    </tr>\n",
       "    <tr>\n",
       "      <th>2</th>\n",
       "      <td>These are the latest fashion trends for this week</td>\n",
       "      <td>Fashion</td>\n",
       "    </tr>\n",
       "    <tr>\n",
       "      <th>3</th>\n",
       "      <td>Vibrant color jeans for male are becoming a trend</td>\n",
       "      <td>Fashion</td>\n",
       "    </tr>\n",
       "    <tr>\n",
       "      <th>4</th>\n",
       "      <td>The concert starts at 7 PM tonight</td>\n",
       "      <td>Event</td>\n",
       "    </tr>\n",
       "    <tr>\n",
       "      <th>5</th>\n",
       "      <td>Navaratri dandiya program at Expo center in Mumbai this october</td>\n",
       "      <td>Event</td>\n",
       "    </tr>\n",
       "    <tr>\n",
       "      <th>6</th>\n",
       "      <td>Exciting vacation destinations for your next trip</td>\n",
       "      <td>Travel</td>\n",
       "    </tr>\n",
       "    <tr>\n",
       "      <th>7</th>\n",
       "      <td>Maldives and Srilanka are gaining popularity in terms of low budget vacation places</td>\n",
       "      <td>Travel</td>\n",
       "    </tr>\n",
       "  </tbody>\n",
       "</table>\n",
       "</div>"
      ],
      "text/plain": [
       "                                                                                  text  \\\n",
       "0                                        Meditation and yoga can improve mental health   \n",
       "1                     Fruits, whole grains and vegetables helps control blood pressure   \n",
       "2                                    These are the latest fashion trends for this week   \n",
       "3                                    Vibrant color jeans for male are becoming a trend   \n",
       "4                                                   The concert starts at 7 PM tonight   \n",
       "5                      Navaratri dandiya program at Expo center in Mumbai this october   \n",
       "6                                    Exciting vacation destinations for your next trip   \n",
       "7  Maldives and Srilanka are gaining popularity in terms of low budget vacation places   \n",
       "\n",
       "  category  \n",
       "0   Health  \n",
       "1   Health  \n",
       "2  Fashion  \n",
       "3  Fashion  \n",
       "4    Event  \n",
       "5    Event  \n",
       "6   Travel  \n",
       "7   Travel  "
      ]
     },
     "execution_count": 12,
     "metadata": {},
     "output_type": "execute_result"
    }
   ],
   "source": [
    "df = pd.read_csv(\"sample_text.csv\")\n",
    "df"
   ]
  },
  {
   "cell_type": "code",
   "execution_count": 13,
   "id": "5c0cd22a",
   "metadata": {},
   "outputs": [
    {
     "data": {
      "text/plain": [
       "(8, 768)"
      ]
     },
     "execution_count": 13,
     "metadata": {},
     "output_type": "execute_result"
    }
   ],
   "source": [
    "from sentence_transformers import SentenceTransformer\n",
    "\n",
    "#Hugging Face Sentence Transformer\n",
    "encoder = SentenceTransformer(\"all-mpnet-base-v2\")\n",
    "vectors = encoder.encode(df.text)\n",
    "vectors.shape"
   ]
  },
  {
   "cell_type": "code",
   "execution_count": 16,
   "id": "d3f49203",
   "metadata": {},
   "outputs": [
    {
     "data": {
      "text/plain": [
       "768"
      ]
     },
     "execution_count": 16,
     "metadata": {},
     "output_type": "execute_result"
    }
   ],
   "source": [
    "dim = vectors.shape[1]\n",
    "dim"
   ]
  },
  {
   "cell_type": "code",
   "execution_count": 17,
   "id": "ccbf981f",
   "metadata": {},
   "outputs": [
    {
     "data": {
      "text/plain": [
       "<faiss.swigfaiss.IndexFlatL2; proxy of <Swig Object of type 'faiss::IndexFlatL2 *' at 0x0000021D96BCE8D0> >"
      ]
     },
     "execution_count": 17,
     "metadata": {},
     "output_type": "execute_result"
    }
   ],
   "source": [
    "import faiss\n",
    "#Creating an index that allows faster search later. Uses Euclidean distance\n",
    "index = faiss.IndexFlatL2(dim)\n",
    "index"
   ]
  },
  {
   "cell_type": "markdown",
   "id": "883f1d43",
   "metadata": {},
   "source": [
    "#### Adding the vectors to the index to construct a data structure for efficient similarity search"
   ]
  },
  {
   "cell_type": "code",
   "execution_count": 18,
   "id": "89d06dce",
   "metadata": {},
   "outputs": [],
   "source": [
    "index.add(vectors)"
   ]
  },
  {
   "cell_type": "markdown",
   "id": "662525a7",
   "metadata": {},
   "source": [
    "### Performing a search"
   ]
  },
  {
   "cell_type": "code",
   "execution_count": 19,
   "id": "eb69a056",
   "metadata": {},
   "outputs": [
    {
     "data": {
      "text/plain": [
       "(768,)"
      ]
     },
     "execution_count": 19,
     "metadata": {},
     "output_type": "execute_result"
    }
   ],
   "source": [
    "search_query = \"I want to buy a polo tshirt\"\n",
    "\n",
    "search_vector = encoder.encode(search_query)\n",
    "\n",
    "search_vector.shape"
   ]
  },
  {
   "cell_type": "code",
   "execution_count": 21,
   "id": "e588a073",
   "metadata": {},
   "outputs": [
    {
     "data": {
      "text/plain": [
       "(1, 768)"
      ]
     },
     "execution_count": 21,
     "metadata": {},
     "output_type": "execute_result"
    }
   ],
   "source": [
    "# Search expects a 2D array so covert using numpy\n",
    "import numpy as np\n",
    "\n",
    "search_vector = np.array(search_vector).reshape(1, -1)\n",
    "search_vector.shape"
   ]
  },
  {
   "cell_type": "code",
   "execution_count": 22,
   "id": "bc7cc761",
   "metadata": {},
   "outputs": [
    {
     "data": {
      "text/plain": [
       "(array([[1.3101504, 1.3429667]], dtype=float32), array([[2, 3]], dtype=int64))"
      ]
     },
     "execution_count": 22,
     "metadata": {},
     "output_type": "execute_result"
    }
   ],
   "source": [
    "index.search(search_vector, k = 2)"
   ]
  },
  {
   "cell_type": "markdown",
   "id": "5cb511ff",
   "metadata": {},
   "source": [
    "The indices returned correspond the to the fashion labelled text in the dataframe"
   ]
  },
  {
   "cell_type": "code",
   "execution_count": 23,
   "id": "5713add8",
   "metadata": {},
   "outputs": [
    {
     "data": {
      "text/html": [
       "<div>\n",
       "<style scoped>\n",
       "    .dataframe tbody tr th:only-of-type {\n",
       "        vertical-align: middle;\n",
       "    }\n",
       "\n",
       "    .dataframe tbody tr th {\n",
       "        vertical-align: top;\n",
       "    }\n",
       "\n",
       "    .dataframe thead th {\n",
       "        text-align: right;\n",
       "    }\n",
       "</style>\n",
       "<table border=\"1\" class=\"dataframe\">\n",
       "  <thead>\n",
       "    <tr style=\"text-align: right;\">\n",
       "      <th></th>\n",
       "      <th>text</th>\n",
       "      <th>category</th>\n",
       "    </tr>\n",
       "  </thead>\n",
       "  <tbody>\n",
       "    <tr>\n",
       "      <th>2</th>\n",
       "      <td>These are the latest fashion trends for this week</td>\n",
       "      <td>Fashion</td>\n",
       "    </tr>\n",
       "    <tr>\n",
       "      <th>3</th>\n",
       "      <td>Vibrant color jeans for male are becoming a trend</td>\n",
       "      <td>Fashion</td>\n",
       "    </tr>\n",
       "  </tbody>\n",
       "</table>\n",
       "</div>"
      ],
      "text/plain": [
       "                                                text category\n",
       "2  These are the latest fashion trends for this week  Fashion\n",
       "3  Vibrant color jeans for male are becoming a trend  Fashion"
      ]
     },
     "execution_count": 23,
     "metadata": {},
     "output_type": "execute_result"
    }
   ],
   "source": [
    "dist, idx = index.search(search_vector, k = 2)\n",
    "\n",
    "df.loc[idx[0]]"
   ]
  },
  {
   "cell_type": "code",
   "execution_count": null,
   "id": "677ede2c",
   "metadata": {},
   "outputs": [],
   "source": []
  }
 ],
 "metadata": {
  "kernelspec": {
   "display_name": "Python 3",
   "language": "python",
   "name": "python3"
  },
  "language_info": {
   "codemirror_mode": {
    "name": "ipython",
    "version": 3
   },
   "file_extension": ".py",
   "mimetype": "text/x-python",
   "name": "python",
   "nbconvert_exporter": "python",
   "pygments_lexer": "ipython3",
   "version": "3.9.5"
  }
 },
 "nbformat": 4,
 "nbformat_minor": 5
}
