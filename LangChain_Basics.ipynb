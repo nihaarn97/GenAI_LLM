{
 "cells": [
  {
   "cell_type": "markdown",
   "id": "6e45f8d6",
   "metadata": {},
   "source": [
    "## This notebook goes over the basic modular components of LangChain like models, prompts, chains, agents and memory"
   ]
  },
  {
   "cell_type": "markdown",
   "id": "d616f2b9",
   "metadata": {},
   "source": [
    "### Loading API keys for OpenAI and SerpAPI (Google Search)"
   ]
  },
  {
   "cell_type": "code",
   "execution_count": 25,
   "id": "1d17668f",
   "metadata": {},
   "outputs": [],
   "source": [
    "import os\n",
    "import openai\n",
    "\n",
    "from dotenv import load_dotenv, find_dotenv\n",
    "_ = load_dotenv(find_dotenv()) # read local .env file\n",
    "openai.api_key = os.environ['OPENAI_API_KEY']\n",
    "serp_api_key = os.environ['SERPAPI_API_KEY']"
   ]
  },
  {
   "cell_type": "markdown",
   "id": "da3f3fbb",
   "metadata": {},
   "source": [
    "### Initializing LLM Model"
   ]
  },
  {
   "cell_type": "code",
   "execution_count": 21,
   "id": "8b4dc067",
   "metadata": {},
   "outputs": [
    {
     "name": "stdout",
     "output_type": "stream",
     "text": [
      "\n",
      "\n",
      "\"Spice of the Aztecs\"\n"
     ]
    }
   ],
   "source": [
    "from langchain.llms import OpenAI\n",
    "\n",
    "llm_model = OpenAI(temperature = 0.0) \n",
    "#temperature determines how creative the model can get with 0 being the least and 1 being the most\n",
    "#Setting a high temperature also leads to wrong answer generation\n",
    "\n",
    "name = llm_model(\"I want to open a restaurant for Mexican Indian Fusion Food. Suggest a fancy name for this.\")\n",
    "print(name)"
   ]
  },
  {
   "cell_type": "markdown",
   "id": "9c574c83",
   "metadata": {},
   "source": [
    "### Simple Sequential Chain of Prompts (1 output only)"
   ]
  },
  {
   "cell_type": "code",
   "execution_count": 3,
   "id": "bb2c531f",
   "metadata": {},
   "outputs": [],
   "source": [
    "from langchain.prompts import PromptTemplate\n",
    "from langchain.chains import LLMChain, SimpleSequentialChain\n",
    "\n",
    "prompt_template_name = PromptTemplate(\n",
    "                            input_variables = ['cuisine'],\n",
    "                            template = \"I want to open a restaurant for {cuisine} food. Suggest a fancy name for this. Only one name will do.\")\n",
    "\n",
    "name_chain = LLMChain(llm = llm_model, prompt = prompt_template_name)\n",
    "\n",
    "prompt_template_menu = PromptTemplate(\n",
    "                            input_variables = ['restaurant_name'],\n",
    "                            template = \"Suggest some menu items for {restaurant_name}. Return it as a comma separated list.\")\n",
    "\n",
    "menu_chain = LLMChain(llm = llm_model, prompt = prompt_template_menu)"
   ]
  },
  {
   "cell_type": "code",
   "execution_count": 4,
   "id": "36b7afc7",
   "metadata": {},
   "outputs": [
    {
     "name": "stderr",
     "output_type": "stream",
     "text": [
      "c:\\users\\nihaa\\appdata\\local\\programs\\python\\python39\\lib\\site-packages\\langchain_core\\_api\\deprecation.py:117: LangChainDeprecationWarning: The function `run` was deprecated in LangChain 0.1.0 and will be removed in 0.2.0. Use invoke instead.\n",
      "  warn_deprecated(\n"
     ]
    },
    {
     "name": "stdout",
     "output_type": "stream",
     "text": [
      "\n",
      "\n",
      "1. Tacos al Pastor\n",
      "2. Enchiladas Verdes\n",
      "3. Carne Asada Burrito\n",
      "4. Quesadillas de Pollo\n",
      "5. Chimichangas\n",
      "6. Chile Relleno\n",
      "7. Fajitas de Res\n",
      "8. Sopa de Tortilla\n",
      "9. Carnitas Tostadas\n",
      "10. Nachos Supreme\n",
      "11. Baja Fish Tacos\n",
      "12. Veggie Quesadilla\n",
      "13. Shrimp Ceviche\n",
      "14. Tamales de Pollo\n",
      "15. Flautas de Carne.\n"
     ]
    }
   ],
   "source": [
    "final_chain = SimpleSequentialChain(chains = [name_chain, menu_chain])\n",
    "\n",
    "response = final_chain.run(\"Mexican\")\n",
    "\n",
    "print(response)"
   ]
  },
  {
   "cell_type": "code",
   "execution_count": 5,
   "id": "ea5303d3",
   "metadata": {},
   "outputs": [],
   "source": [
    "prompt_template_name = PromptTemplate(\n",
    "                            input_variables = ['cuisine'],\n",
    "                            template = \"I want to open a restaurant for {cuisine} food. Suggest a fancy name for this. Only one name will do.\")\n",
    "\n",
    "name_chain = LLMChain(llm = llm_model, prompt = prompt_template_name, output_key = \"restaurant_name\")\n",
    "\n",
    "prompt_template_menu = PromptTemplate(\n",
    "                            input_variables = ['restaurant_name'],\n",
    "                            template = \"Suggest some menu items for {restaurant_name}. Return it as a comma separated list.\")\n",
    "\n",
    "menu_chain = LLMChain(llm = llm_model, prompt = prompt_template_menu, output_key = \"menu_items\")"
   ]
  },
  {
   "cell_type": "markdown",
   "id": "b3ec0284",
   "metadata": {},
   "source": [
    "### Sequential Chain of prompts (allows multiple outputs)"
   ]
  },
  {
   "cell_type": "code",
   "execution_count": 6,
   "id": "551dac7b",
   "metadata": {
    "scrolled": true
   },
   "outputs": [
    {
     "name": "stderr",
     "output_type": "stream",
     "text": [
      "c:\\users\\nihaa\\appdata\\local\\programs\\python\\python39\\lib\\site-packages\\langchain_core\\_api\\deprecation.py:117: LangChainDeprecationWarning: The function `__call__` was deprecated in LangChain 0.1.0 and will be removed in 0.2.0. Use invoke instead.\n",
      "  warn_deprecated(\n"
     ]
    },
    {
     "name": "stdout",
     "output_type": "stream",
     "text": [
      "{'cuisine': 'Greek', 'restaurant_name': '\\n\\n\"Olympus Eats\"', 'menu_items': \"\\n\\n1. Zeus' Thunder Burger\\n2. Athena's Greek Salad\\n3. Apollo's Grilled Chicken Gyro\\n4. Poseidon's Seafood Platter\\n5. Hera's Lamb Souvlaki\\n6. Demeter's Veggie Wrap\\n7. Dionysus' Wine-Infused Pasta\\n8. Hades' Inferno Pizza\\n9. Artemis' Wild Game Skewers\\n10. Hermes' Mediterranean Flatbread\\n11. Aphrodite's Shrimp Scampi\\n12. Hephaestus' BBQ Ribs\\n13. Ares' Spicy Chicken Wings\\n14. Persephone's Quinoa Bowl\\n15. Hestia's Fire-Roasted Vegetables.\"}\n"
     ]
    }
   ],
   "source": [
    "from langchain.chains import SequentialChain\n",
    "\n",
    "final_chain = SequentialChain(chains = [name_chain, menu_chain],\n",
    "                              input_variables = ['cuisine'],\n",
    "                              output_variables = ['restaurant_name', 'menu_items'])\n",
    "\n",
    "response = final_chain({'cuisine' : \"Greek\"})\n",
    "\n",
    "print(response)"
   ]
  },
  {
   "cell_type": "markdown",
   "id": "785545ad",
   "metadata": {},
   "source": [
    "### Utilizing wikipedia and math agents"
   ]
  },
  {
   "cell_type": "code",
   "execution_count": 19,
   "id": "5463640c",
   "metadata": {},
   "outputs": [
    {
     "data": {
      "text/plain": [
       "'Bill Gates was born on October 28, 1955 and is currently 67 years old.'"
      ]
     },
     "execution_count": 19,
     "metadata": {},
     "output_type": "execute_result"
    }
   ],
   "source": [
    "from langchain.agents import AgentType, initialize_agent, load_tools\n",
    "\n",
    "tools = load_tools([\"wikipedia\", \"llm-math\"], llm = llm_model)\n",
    "\n",
    "agent = initialize_agent(tools, llm_model, agent = AgentType.ZERO_SHOT_REACT_DESCRIPTION) #Think, Reason and Perform Action\n",
    "\n",
    "agent.run(\"When was Bill Gates born and how old is he?\")"
   ]
  },
  {
   "cell_type": "code",
   "execution_count": 22,
   "id": "2ca6b38e",
   "metadata": {},
   "outputs": [
    {
     "name": "stdout",
     "output_type": "stream",
     "text": [
      "\n",
      "\n",
      "\u001b[1m> Entering new AgentExecutor chain...\u001b[0m\n",
      "\u001b[32;1m\u001b[1;3m I should use Wikipedia to find information about Elon Musk\n",
      "Action: Wikipedia\n",
      "Action Input: Elon Musk\u001b[0m\n",
      "Observation: \u001b[36;1m\u001b[1;3mPage: Elon Musk\n",
      "Summary: Elon Reeve Musk ( EE-lon; born June 28, 1971) is a businessman and investor. He is the founder, chairman, CEO, and CTO of SpaceX; angel investor, CEO, product architect and former chairman of Tesla, Inc.; owner, chairman and CTO of X Corp.; founder of the Boring Company and xAI; co-founder of Neuralink and OpenAI; and president of the Musk Foundation. He is the wealthiest person in the world, with an estimated net worth of US$232 billion as of December 2023, according to the Bloomberg Billionaires Index, and $254 billion according to Forbes, primarily from his ownership stakes in Tesla and SpaceX.A member of the wealthy South African Musk family, Elon was born in Pretoria and briefly attended the University of Pretoria before immigrating to Canada at age 18, acquiring citizenship through his Canadian-born mother. Two years later, he matriculated at Queen's University at Kingston in Canada. Musk later transferred to the University of Pennsylvania, and received bachelor's degrees in economics and physics. He moved to California in 1995 to attend Stanford University. However, Musk dropped out after two days and, with his brother Kimbal, co-founded online city guide software company Zip2. The startup was acquired by Compaq for $307 million in 1999, and, that same year Musk co-founded X.com, a direct bank. X.com merged with Confinity in 2000 to form PayPal.\n",
      "In October 2002, eBay acquired PayPal for $1.5 billion, and that same year, with $100 million of the money he made, Musk founded SpaceX, a spaceflight services company. In 2004, he became an early investor in electric vehicle manufacturer Tesla Motors, Inc. (now Tesla, Inc.). He became its chairman and product architect, assuming the position of CEO in 2008. In 2006, Musk helped create SolarCity, a solar-energy company that was acquired by Tesla in 2016 and became Tesla Energy. In 2013, he proposed a hyperloop high-speed vactrain transportation system. In 2015, he co-founded OpenAI, a nonprofit artificial intelligence research company. The following year, Musk co-founded Neuralink—a neurotechnology company developing brain–computer interfaces—and the Boring Company, a tunnel construction company. In 2022, he acquired Twitter for $44 billion. He subsequently merged the company into newly created X Corp. and rebranded the service as X the following year. In March 2023, he founded xAI, an artificial intelligence company.\n",
      "Musk has expressed views that have made him a polarizing figure. He has been criticized for making unscientific and misleading statements, including COVID-19 misinformation, and antisemitic conspiracy theories. His ownership of Twitter has been similarly controversial, being marked by the laying off of a large number of employees, an increase in hate speech and misinformation and disinformation on the website, as well as changes to Twitter Blue verification. In 2018, the U.S. Securities and Exchange Commission (SEC) sued him for falsely tweeting that he had secured funding for a private takeover of Tesla. To settle the case, Musk stepped down as the chairman of Tesla and paid a $20 million fine.\n",
      "\n",
      "Page: Twitter under Elon Musk\n",
      "Summary: Elon Musk completed his acquisition of Twitter in October 2022; Musk acted as CEO of Twitter until June 2023 when he was succeeded by Linda Yaccarino. Twitter was then rebranded to X in July 2023. Initially during Musk's tenure, Twitter introduced a series of reforms and management changes; the company reinstated a number of previously banned accounts, reduced the workforce by approximately 80%, closed one of Twitter's three data centers, and largely eliminated the content moderation team, replacing it with the crowd-sourced fact-checking system Community Notes.\n",
      "In November 2022, Twitter then began offering paid verification checkmarks, followed by removing legacy verification. In December, the Twitter Files were released and a number of journalists suspended from the platform. The following year, a variety of\u001b[0m\n",
      "Thought:\u001b[32;1m\u001b[1;3m I should use Wikipedia to find information about Elon Musk's birthdate and age\n",
      "Action: Wikipedia\n",
      "Action Input: Elon Musk\u001b[0m\n",
      "Observation: \u001b[36;1m\u001b[1;3mPage: Elon Musk\n",
      "Summary: Elon Reeve Musk ( EE-lon; born June 28, 1971) is a businessman and investor. He is the founder, chairman, CEO, and CTO of SpaceX; angel investor, CEO, product architect and former chairman of Tesla, Inc.; owner, chairman and CTO of X Corp.; founder of the Boring Company and xAI; co-founder of Neuralink and OpenAI; and president of the Musk Foundation. He is the wealthiest person in the world, with an estimated net worth of US$232 billion as of December 2023, according to the Bloomberg Billionaires Index, and $254 billion according to Forbes, primarily from his ownership stakes in Tesla and SpaceX.A member of the wealthy South African Musk family, Elon was born in Pretoria and briefly attended the University of Pretoria before immigrating to Canada at age 18, acquiring citizenship through his Canadian-born mother. Two years later, he matriculated at Queen's University at Kingston in Canada. Musk later transferred to the University of Pennsylvania, and received bachelor's degrees in economics and physics. He moved to California in 1995 to attend Stanford University. However, Musk dropped out after two days and, with his brother Kimbal, co-founded online city guide software company Zip2. The startup was acquired by Compaq for $307 million in 1999, and, that same year Musk co-founded X.com, a direct bank. X.com merged with Confinity in 2000 to form PayPal.\n",
      "In October 2002, eBay acquired PayPal for $1.5 billion, and that same year, with $100 million of the money he made, Musk founded SpaceX, a spaceflight services company. In 2004, he became an early investor in electric vehicle manufacturer Tesla Motors, Inc. (now Tesla, Inc.). He became its chairman and product architect, assuming the position of CEO in 2008. In 2006, Musk helped create SolarCity, a solar-energy company that was acquired by Tesla in 2016 and became Tesla Energy. In 2013, he proposed a hyperloop high-speed vactrain transportation system. In 2015, he co-founded OpenAI, a nonprofit artificial intelligence research company. The following year, Musk co-founded Neuralink—a neurotechnology company developing brain–computer interfaces—and the Boring Company, a tunnel construction company. In 2022, he acquired Twitter for $44 billion. He subsequently merged the company into newly created X Corp. and rebranded the service as X the following year. In March 2023, he founded xAI, an artificial intelligence company.\n",
      "Musk has expressed views that have made him a polarizing figure. He has been criticized for making unscientific and misleading statements, including COVID-19 misinformation, and antisemitic conspiracy theories. His ownership of Twitter has been similarly controversial, being marked by the laying off of a large number of employees, an increase in hate speech and misinformation and disinformation on the website, as well as changes to Twitter Blue verification. In 2018, the U.S. Securities and Exchange Commission (SEC) sued him for falsely tweeting that he had secured funding for a private takeover of Tesla. To settle the case, Musk stepped down as the chairman of Tesla and paid a $20 million fine.\n",
      "\n",
      "Page: Twitter under Elon Musk\n",
      "Summary: Elon Musk completed his acquisition of Twitter in October 2022; Musk acted as CEO of Twitter until June 2023 when he was succeeded by Linda Yaccarino. Twitter was then rebranded to X in July 2023. Initially during Musk's tenure, Twitter introduced a series of reforms and management changes; the company reinstated a number of previously banned accounts, reduced the workforce by approximately 80%, closed one of Twitter's three data centers, and largely eliminated the content moderation team, replacing it with the crowd-sourced fact-checking system Community Notes.\n",
      "In November 2022, Twitter then began offering paid verification checkmarks, followed by removing legacy verification. In December, the Twitter Files were released and a number of journalists suspended from the platform. The following year, a variety of\u001b[0m\n"
     ]
    },
    {
     "name": "stdout",
     "output_type": "stream",
     "text": [
      "Thought:\u001b[32;1m\u001b[1;3m I should use Calculator to calculate Elon Musk's age\n",
      "Action: Calculator\n",
      "Action Input: 2022 - 1971\u001b[0m\n",
      "Observation: \u001b[33;1m\u001b[1;3mAnswer: 51\u001b[0m\n",
      "Thought:\u001b[32;1m\u001b[1;3m I now know the final answer\n",
      "Final Answer: Elon Musk was born on June 28, 1971 and is currently 51 years old.\u001b[0m\n",
      "\n",
      "\u001b[1m> Finished chain.\u001b[0m\n"
     ]
    },
    {
     "data": {
      "text/plain": [
       "'Elon Musk was born on June 28, 1971 and is currently 51 years old.'"
      ]
     },
     "execution_count": 22,
     "metadata": {},
     "output_type": "execute_result"
    }
   ],
   "source": [
    "from langchain.agents import AgentType, initialize_agent, load_tools\n",
    "\n",
    "tools = load_tools([\"wikipedia\", \"llm-math\"], llm = llm_model)\n",
    "\n",
    "agent = initialize_agent(tools, llm_model, agent = AgentType.ZERO_SHOT_REACT_DESCRIPTION, verbose = True) #Think, Reason and Perform Action\n",
    "\n",
    "agent.run(\"When was Elon Musk born and how old is he?\")"
   ]
  },
  {
   "cell_type": "markdown",
   "id": "6b0e2ba0",
   "metadata": {},
   "source": [
    "### Utilizing Google and math agents"
   ]
  },
  {
   "cell_type": "code",
   "execution_count": 39,
   "id": "fe8e07f6",
   "metadata": {},
   "outputs": [
    {
     "name": "stdout",
     "output_type": "stream",
     "text": [
      "\n",
      "\n",
      "\u001b[1m> Entering new AgentExecutor chain...\u001b[0m\n",
      "\u001b[32;1m\u001b[1;3m I should use a calculator to solve this equation.\n",
      "Action: Calculator\n",
      "Action Input: 5*23/10\u001b[0m\n",
      "Observation: \u001b[33;1m\u001b[1;3mAnswer: 11.5\u001b[0m\n",
      "Thought:\u001b[32;1m\u001b[1;3m Now I need to add this to Elon Musk's current age.\n",
      "Action: Calculator\n",
      "Action Input: 11.5 + 49\u001b[0m\n",
      "Observation: \u001b[33;1m\u001b[1;3mAnswer: 60.5\u001b[0m\n",
      "Thought:\u001b[32;1m\u001b[1;3m I now know the final answer.\n",
      "Final Answer: Elon Musk's current age is 60.5 years old.\u001b[0m\n",
      "\n",
      "\u001b[1m> Finished chain.\u001b[0m\n"
     ]
    },
    {
     "data": {
      "text/plain": [
       "\"Elon Musk's current age is 60.5 years old.\""
      ]
     },
     "execution_count": 39,
     "metadata": {},
     "output_type": "execute_result"
    }
   ],
   "source": [
    "tools = load_tools([\"serpapi\", \"llm-math\"], llm = llm_model)\n",
    "\n",
    "agent = initialize_agent(tools, llm_model, agent = AgentType.ZERO_SHOT_REACT_DESCRIPTION, verbose = True) #Think, Reason and Perform Action\n",
    "\n",
    "agent.run(\"What is Elon Musks current age? Find out age + 5*23/10?\")"
   ]
  },
  {
   "cell_type": "markdown",
   "id": "913ca3f8",
   "metadata": {},
   "source": [
    "### Simulating memory based conversations"
   ]
  },
  {
   "cell_type": "code",
   "execution_count": 41,
   "id": "464d3b5f",
   "metadata": {},
   "outputs": [
    {
     "name": "stdout",
     "output_type": "stream",
     "text": [
      "\n",
      "\n",
      "\"El Jardín de Sabores\" (The Garden of Flavors)\n"
     ]
    }
   ],
   "source": [
    "from langchain.memory import ConversationBufferMemory\n",
    "\n",
    "memory = ConversationBufferMemory()\n",
    "\n",
    "memory_chain = LLMChain(llm = llm_model, prompt = prompt_template_name, memory = memory)\n",
    "\n",
    "name = memory_chain.run(\"Mexican\")\n",
    "\n",
    "print(name)"
   ]
  },
  {
   "cell_type": "code",
   "execution_count": 42,
   "id": "e32d8c7a",
   "metadata": {},
   "outputs": [
    {
     "name": "stdout",
     "output_type": "stream",
     "text": [
      "\n",
      "\n",
      "\"Kaiser's Kitchen\"\n"
     ]
    }
   ],
   "source": [
    "name = memory_chain.run(\"German\")\n",
    "\n",
    "print(name)"
   ]
  },
  {
   "cell_type": "code",
   "execution_count": 43,
   "id": "bc84a0ef",
   "metadata": {},
   "outputs": [
    {
     "data": {
      "text/plain": [
       "ConversationBufferMemory(chat_memory=ChatMessageHistory(messages=[HumanMessage(content='Mexican'), AIMessage(content='\\n\\n\"El Jardín de Sabores\" (The Garden of Flavors)'), HumanMessage(content='German'), AIMessage(content='\\n\\n\"Kaiser\\'s Kitchen\"')]))"
      ]
     },
     "execution_count": 43,
     "metadata": {},
     "output_type": "execute_result"
    }
   ],
   "source": [
    "memory_chain.memory"
   ]
  },
  {
   "cell_type": "code",
   "execution_count": 46,
   "id": "bcf39821",
   "metadata": {},
   "outputs": [
    {
     "name": "stdout",
     "output_type": "stream",
     "text": [
      "Human: Mexican\n",
      "AI: \n",
      "\n",
      "\"El Jardín de Sabores\" (The Garden of Flavors)\n",
      "Human: German\n",
      "AI: \n",
      "\n",
      "\"Kaiser's Kitchen\"\n"
     ]
    }
   ],
   "source": [
    "print(memory_chain.memory.buffer)"
   ]
  },
  {
   "cell_type": "markdown",
   "id": "dc805061",
   "metadata": {},
   "source": [
    "### Remember only last 3 conversation exchanges to save costs"
   ]
  },
  {
   "cell_type": "code",
   "execution_count": 48,
   "id": "8d2a2df0",
   "metadata": {},
   "outputs": [
    {
     "name": "stdout",
     "output_type": "stream",
     "text": [
      "The following is a friendly conversation between a human and an AI. The AI is talkative and provides lots of specific details from its context. If the AI does not know the answer to a question, it truthfully says it does not know.\n",
      "\n",
      "Current conversation:\n",
      "{history}\n",
      "Human: {input}\n",
      "AI:\n"
     ]
    }
   ],
   "source": [
    "from langchain.chains import ConversationChain\n",
    "\n",
    "convo = ConversationChain(llm = llm_model)\n",
    "print(convo.prompt.template)"
   ]
  },
  {
   "cell_type": "code",
   "execution_count": 49,
   "id": "ea5e99dc",
   "metadata": {},
   "outputs": [
    {
     "data": {
      "text/plain": [
       "' The first football world cup was won by Uruguay in 1930. They defeated Argentina 4-2 in the final match. The tournament was held in Uruguay and featured 13 teams from around the world. The winning goal was scored by Uruguayan player Hector Castro.'"
      ]
     },
     "execution_count": 49,
     "metadata": {},
     "output_type": "execute_result"
    }
   ],
   "source": [
    "convo.run(\"Who won the first football world cup?\")"
   ]
  },
  {
   "cell_type": "code",
   "execution_count": 50,
   "id": "8d44bb28",
   "metadata": {},
   "outputs": [
    {
     "data": {
      "text/plain": [
       "' 10+10 is equal to 20.'"
      ]
     },
     "execution_count": 50,
     "metadata": {},
     "output_type": "execute_result"
    }
   ],
   "source": [
    "convo.run(\"What is 10+10\")"
   ]
  },
  {
   "cell_type": "code",
   "execution_count": 51,
   "id": "7bff55c0",
   "metadata": {},
   "outputs": [
    {
     "data": {
      "text/plain": [
       "' The captain of the losing team in the first football world cup was Manuel Ferreira of Argentina. He was a defender and played for the club team Boca Juniors.'"
      ]
     },
     "execution_count": 51,
     "metadata": {},
     "output_type": "execute_result"
    }
   ],
   "source": [
    "convo.run(\"Who was the captain of the losing team?\")"
   ]
  },
  {
   "cell_type": "code",
   "execution_count": 54,
   "id": "e45417f1",
   "metadata": {},
   "outputs": [
    {
     "name": "stdout",
     "output_type": "stream",
     "text": [
      "Human: Who won the first football world cup?\n",
      "AI:  The first football world cup was won by Uruguay in 1930. They defeated Argentina 4-2 in the final match. The tournament was held in Uruguay and featured 13 teams from around the world. The winning goal was scored by Uruguayan player Hector Castro.\n",
      "Human: What is 10+10\n",
      "AI:  10+10 is equal to 20.\n",
      "Human: Who was the captain of the losing team?\n",
      "AI:  The captain of the losing team in the first football world cup was Manuel Ferreira of Argentina. He was a defender and played for the club team Boca Juniors.\n"
     ]
    }
   ],
   "source": [
    "print(convo.memory.buffer)"
   ]
  },
  {
   "cell_type": "code",
   "execution_count": 63,
   "id": "c1af3efc",
   "metadata": {},
   "outputs": [
    {
     "data": {
      "text/plain": [
       "' The first football world cup was won by Uruguay in 1930. They defeated Argentina 4-2 in the final match. The tournament was held in Uruguay and featured 13 teams from around the world. The winning goal was scored by Uruguayan player Hector Castro.'"
      ]
     },
     "execution_count": 63,
     "metadata": {},
     "output_type": "execute_result"
    }
   ],
   "source": [
    "from langchain.memory import ConversationBufferWindowMemory\n",
    "\n",
    "memory = ConversationBufferWindowMemory(k = 1)\n",
    "\n",
    "convo = ConversationChain(llm = llm_model, memory = memory)\n",
    "\n",
    "convo.run(\"Who won the first football world cup?\")"
   ]
  },
  {
   "cell_type": "code",
   "execution_count": 64,
   "id": "c4a6b30b",
   "metadata": {},
   "outputs": [
    {
     "data": {
      "text/plain": [
       "' 10+10 is equal to 20.'"
      ]
     },
     "execution_count": 64,
     "metadata": {},
     "output_type": "execute_result"
    }
   ],
   "source": [
    "convo.run(\"What is 10+10\")"
   ]
  },
  {
   "cell_type": "code",
   "execution_count": 65,
   "id": "940994f4",
   "metadata": {},
   "outputs": [
    {
     "data": {
      "text/plain": [
       "' 20+20 is equal to 40.'"
      ]
     },
     "execution_count": 65,
     "metadata": {},
     "output_type": "execute_result"
    }
   ],
   "source": [
    "convo.run(\"What is 20+20?\")"
   ]
  },
  {
   "cell_type": "code",
   "execution_count": 66,
   "id": "6194acce",
   "metadata": {},
   "outputs": [
    {
     "data": {
      "text/plain": [
       "' I do not have enough context to accurately answer that question. Can you provide more information?'"
      ]
     },
     "execution_count": 66,
     "metadata": {},
     "output_type": "execute_result"
    }
   ],
   "source": [
    "convo.run(\"Who was the captain of the losing team?\")"
   ]
  },
  {
   "cell_type": "code",
   "execution_count": 67,
   "id": "e693ef8b",
   "metadata": {
    "scrolled": false
   },
   "outputs": [
    {
     "name": "stdout",
     "output_type": "stream",
     "text": [
      "Human: Who was the captain of the losing team?\n",
      "AI:  I do not have enough context to accurately answer that question. Can you provide more information?\n"
     ]
    }
   ],
   "source": [
    "print(convo.memory.buffer)"
   ]
  },
  {
   "cell_type": "markdown",
   "id": "9e2cf2b9",
   "metadata": {},
   "source": [
    "### Setting memory to 3 and trying again"
   ]
  },
  {
   "cell_type": "code",
   "execution_count": 68,
   "id": "8b5a3ebf",
   "metadata": {},
   "outputs": [
    {
     "data": {
      "text/plain": [
       "' The first football world cup was won by Uruguay in 1930. They defeated Argentina 4-2 in the final match. The tournament was held in Uruguay and featured 13 teams from around the world. The winning goal was scored by Uruguayan player Hector Castro.'"
      ]
     },
     "execution_count": 68,
     "metadata": {},
     "output_type": "execute_result"
    }
   ],
   "source": [
    "memory = ConversationBufferWindowMemory(k = 3)\n",
    "\n",
    "convo = ConversationChain(llm = llm_model, memory = memory)\n",
    "\n",
    "convo.run(\"Who won the first football world cup?\")"
   ]
  },
  {
   "cell_type": "code",
   "execution_count": 69,
   "id": "696252aa",
   "metadata": {},
   "outputs": [
    {
     "data": {
      "text/plain": [
       "' 10+10 is equal to 20.'"
      ]
     },
     "execution_count": 69,
     "metadata": {},
     "output_type": "execute_result"
    }
   ],
   "source": [
    "convo.run(\"What is 10+10\")"
   ]
  },
  {
   "cell_type": "code",
   "execution_count": 70,
   "id": "bbf29ec2",
   "metadata": {},
   "outputs": [
    {
     "data": {
      "text/plain": [
       "' The captain of the winning team, Uruguay, was José Nasazzi. He was a defender and played for the club Nacional in Uruguay. He also played for the Uruguayan national team and was known for his strong leadership skills on the field.'"
      ]
     },
     "execution_count": 70,
     "metadata": {},
     "output_type": "execute_result"
    }
   ],
   "source": [
    "convo.run(\"Who was the captain of the winning team?\")"
   ]
  },
  {
   "cell_type": "code",
   "execution_count": null,
   "id": "04583952",
   "metadata": {},
   "outputs": [],
   "source": []
  }
 ],
 "metadata": {
  "kernelspec": {
   "display_name": "Python 3",
   "language": "python",
   "name": "python3"
  },
  "language_info": {
   "codemirror_mode": {
    "name": "ipython",
    "version": 3
   },
   "file_extension": ".py",
   "mimetype": "text/x-python",
   "name": "python",
   "nbconvert_exporter": "python",
   "pygments_lexer": "ipython3",
   "version": "3.9.5"
  }
 },
 "nbformat": 4,
 "nbformat_minor": 5
}
